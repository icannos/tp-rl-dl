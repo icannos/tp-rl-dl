{
 "cells": [
  {
   "cell_type": "code",
   "execution_count": 41,
   "metadata": {
    "colab": {},
    "colab_type": "code",
    "id": "Xx4g3TdTJ2no",
    "pycharm": {
     "is_executing": false
    }
   },
   "outputs": [
    {
     "name": "stdout",
     "text": [
      "fatal: le chemin de destination 'spinningup' existe déjà et n'est pas un répertoire vide.\r\n",
      "Obtaining file:///run/media/maxime/Documents/_ENS/M2/deepl_rl/tp-rl-dl/tp-rl/spinningup\r\n",
      "Collecting cloudpickle==1.2.1\r\n",
      "  Using cached https://files.pythonhosted.org/packages/09/f4/4a080c349c1680a2086196fcf0286a65931708156f39568ed7051e42ff6a/cloudpickle-1.2.1-py2.py3-none-any.whl\r\n",
      "Requirement already satisfied: gym[atari,box2d,classic_control]~=0.15.3 in /home/maxime/.local/lib/python3.8/site-packages (from spinup==0.2.0) (0.15.4)\r\n",
      "Requirement already satisfied: ipython in /usr/lib/python3.8/site-packages (from spinup==0.2.0) (7.12.0)\r\n",
      "Requirement already satisfied: joblib in /home/maxime/.local/lib/python3.8/site-packages (from spinup==0.2.0) (0.14.1)\r\n",
      "Collecting matplotlib==3.1.1\r\n",
      "  Using cached https://files.pythonhosted.org/packages/12/d1/7b12cd79c791348cb0c78ce6e7d16bd72992f13c9f1e8e43d2725a6d8adf/matplotlib-3.1.1.tar.gz\r\n",
      "Collecting mpi4py\r\n",
      "  Using cached https://files.pythonhosted.org/packages/ec/8f/bbd8de5ba566dd77e408d8136e2bab7fdf2b97ce06cab830ba8b50a2f588/mpi4py-3.0.3.tar.gz\r\n",
      "Requirement already satisfied: numpy in /usr/lib/python3.8/site-packages (from spinup==0.2.0) (1.18.1)\r\n",
      "Requirement already satisfied: pandas in /home/maxime/.local/lib/python3.8/site-packages (from spinup==0.2.0) (0.25.3)\r\n",
      "Collecting pytest\r\n",
      "  Using cached https://files.pythonhosted.org/packages/a5/c0/34033b2df7718b91c667bd259d5ce632ec3720198b7068c0ba6f6104ff89/pytest-5.3.5-py3-none-any.whl\r\n",
      "Requirement already satisfied: psutil in /usr/lib/python3.8/site-packages (from spinup==0.2.0) (5.6.7)\r\n",
      "Requirement already satisfied: scipy in /usr/lib/python3.8/site-packages (from spinup==0.2.0) (1.4.1)\r\n",
      "Collecting seaborn==0.8.1\r\n",
      "  Using cached https://files.pythonhosted.org/packages/10/01/dd1c7838cde3b69b247aaeb61016e238cafd8188a276e366d36aa6bcdab4/seaborn-0.8.1.tar.gz\r\n",
      "\u001b[31mERROR: Could not find a version that satisfies the requirement tensorflow<2.0,>=1.8.0 (from spinup==0.2.0) (from versions: none)\u001b[0m\r\n",
      "\u001b[31mERROR: No matching distribution found for tensorflow<2.0,>=1.8.0 (from spinup==0.2.0)\u001b[0m\r\n"
     ],
     "output_type": "stream"
    }
   ],
   "source": [
    "# Install spinningup on CoLab\n",
    "!git clone https://github.com/openai/spinningup.git\n",
    "!cd spinningup\n",
    "#!pip install -e . # this will incur error: File \"setup.py\" not found. Directory cannot be installed in editable mode: /content\n",
    "!pip install --user -e spinningup"
   ]
  },
  {
   "cell_type": "code",
   "execution_count": 42,
   "metadata": {
    "pycharm": {
     "is_executing": false
    }
   },
   "outputs": [
    {
     "name": "stdout",
     "text": [
      "Requirement already satisfied: spinup in /home/maxime/.local/lib/python3.8/site-packages (0.1)\r\n"
     ],
     "output_type": "stream"
    }
   ],
   "source": [
    "!pip install --user spinup"
   ]
  },
  {
   "cell_type": "code",
   "execution_count": 43,
   "metadata": {
    "colab": {},
    "colab_type": "code",
    "id": "rwE9yEvwKsVv",
    "pycharm": {
     "is_executing": false
    }
   },
   "outputs": [],
   "source": [
    "import gym\n",
    "from gym import logger as gymlogger\n",
    "from gym.wrappers import Monitor"
   ]
  },
  {
   "cell_type": "code",
   "execution_count": 44,
   "metadata": {
    "colab": {},
    "colab_type": "code",
    "id": "eMO1IDjw6hXX",
    "pycharm": {
     "is_executing": false
    }
   },
   "outputs": [],
   "source": [
    "import os\n",
    "import pickle\n",
    "\n",
    "import gym\n",
    "\n",
    "import random\n",
    "import numpy as np\n",
    "\n",
    "import torch\n",
    "import torch.nn as nn\n",
    "import torch.nn.functional as F\n",
    "import torch.optim as optim\n",
    "from torch.autograd import Variable\n",
    "\n",
    "from copy import deepcopy\n",
    "from collections import namedtuple, deque\n",
    "\n",
    "import matplotlib.pyplot as plt"
   ]
  },
  {
   "cell_type": "code",
   "execution_count": 45,
   "metadata": {
    "colab": {},
    "colab_type": "code",
    "id": "J5EkSdfB55xS",
    "pycharm": {
     "is_executing": false
    }
   },
   "outputs": [],
   "source": [
    "#CONSTANTS\n",
    "\n",
    "ENV = 'CartPole-v0'\n",
    "#Upgrade values\n",
    "BETA    = 0.2\n",
    "DELTA   = 1\n",
    "GAMMA   = 0.995\n",
    "EPSILON = 0.3\n",
    "TAU     = 0.97\n",
    "\n",
    "#Memory and number of runs\n",
    "N_EPISODES = 2\n",
    "BATCH_SIZE = 1000\n",
    "\n",
    "#Model hyperparameters\n",
    "N_HIDDEN        = 64\n",
    "A_LEARNING_RATE = 0.001\n",
    "C_LEARNING_RATE = 0.0001          #Current best : 0.001 & 0.001, mean reward ~ 22 with cartpole\n",
    "\n",
    "# Unterval of steps after which statistics should be printed\n",
    "LOG_STEPS = 1\n",
    "SAVE_STEPS = 20\n",
    "#ACTOR_SAVE_PATH = \"saved_models/actor_ppo.pth\"\n",
    "#CRITIC_SAVE_PATH = \"saved_models/critic_ppo.pth\""
   ]
  },
  {
   "cell_type": "code",
   "execution_count": 46,
   "metadata": {
    "colab": {},
    "colab_type": "code",
    "id": "L7T342_G61Ud",
    "pycharm": {
     "is_executing": false
    }
   },
   "outputs": [],
   "source": [
    "class Game:\n",
    "    \"\"\"\n",
    "    Running environment, taking one step,...\n",
    "    \"\"\"\n",
    "    def __init__(self):\n",
    "        self.env = gym.make(ENV)\n",
    "        self.state_dim = self.env.observation_space.shape[0]\n",
    "        self.n_actions = self.env.action_space.n\n",
    "        # typecast since problems with multiplication if type(limit) = np.float32\n",
    "        #self.limit = float(self.env.action_space.high[0])\n",
    "\n",
    "    def reset(self):\n",
    "        start = self.env.reset()\n",
    "        return start\n",
    "\n",
    "    def take_one_step(self, action):\n",
    "        #new_frame, reward, is_done, _ = self.env.step([action])\n",
    "        new_frame, reward, is_done, _ = self.env.step(action)\n",
    "        return new_frame, reward, is_done\n",
    "\n",
    "    def sample_action(self):\n",
    "        return self.env.action_space.sample()"
   ]
  },
  {
   "cell_type": "code",
   "execution_count": 47,
   "metadata": {
    "colab": {},
    "colab_type": "code",
    "id": "cHzYoT9W8l-Z",
    "pycharm": {
     "is_executing": false
    }
   },
   "outputs": [],
   "source": [
    "Transition = namedtuple('Transition', ('state', 'action', 'mask', 'reward'))\n",
    "\n",
    "class Memory(object):\n",
    "    \"\"\"\n",
    "    Save state,action,reward,mask to memory,\n",
    "    Sample from memory with .sample()\n",
    "    \"\"\"\n",
    "    def __init__(self):\n",
    "        self.memory = []\n",
    "\n",
    "    def push(self, state, action, mask, reward):\n",
    "        \"\"\"Saves a transition.\"\"\"\n",
    "        self.memory.append(Transition(state, action, mask, reward))\n",
    "\n",
    "    def sample(self):\n",
    "        return Transition(*zip(*self.memory))\n",
    "\n",
    "    def __len__(self):\n",
    "        return len(self.memory)"
   ]
  },
  {
   "cell_type": "code",
   "execution_count": 47,
   "metadata": {
    "colab": {},
    "colab_type": "code",
    "id": "tsYZkzkp89Sp",
    "pycharm": {
     "is_executing": false
    }
   },
   "outputs": [],
   "source": []
  },
  {
   "cell_type": "code",
   "execution_count": 48,
   "metadata": {
    "colab": {},
    "colab_type": "code",
    "id": "KnrzqmK87ITb",
    "pycharm": {
     "is_executing": false
    }
   },
   "outputs": [],
   "source": [
    "class Actor(nn.Module):\n",
    "    \"\"\"\n",
    "    Actor Critic network\n",
    "    \"\"\"\n",
    "    def __init__(self, n_inp, n_hidden,n_output):\n",
    "        super(Actor, self).__init__()\n",
    "        self.fc1 = nn.Linear(n_inp, n_hidden)\n",
    "        self.fc2 = nn.Linear(n_hidden, n_output)\n",
    "        \n",
    "        #nn.init.normal_(self.fc1.weight, mean=0.0, std=1.0)\n",
    "        #nn.init.normal_(self.fc2.weight, mean=0.0, std=1.0)\n",
    "\n",
    "\n",
    "        #self.log_stddev = nn.Parameter(torch.zeros(1))\n",
    "\n",
    "        self.module_list = [self.fc1, self.fc2]\n",
    "        self.module_list_old = [None] * 2\n",
    "\n",
    "        # required so that start of episode does not throw error\n",
    "        n = n_inp\n",
    "        y = 1.0/np.sqrt(n)\n",
    "\n",
    "        fc1_old = self.fc1\n",
    "        fc2_old = self.fc2\n",
    "        \n",
    "        #Weights init\n",
    "        fc1_old.weight.data.uniform_(-y, y)\n",
    "        fc2_old.bias.data.fill_(0)\n",
    "\n",
    "        self.module_list_old[0], self.module_list_old[1] = fc1_old, fc2_old\n",
    "\n",
    "    def backup(self):\n",
    "        for i in range(len(self.module_list)):\n",
    "            self.module_list_old[i] = deepcopy(self.module_list[i])\n",
    "\n",
    "    def forward(self, x, old=False):\n",
    "        \n",
    "        \n",
    "        if not old:\n",
    "            x = F.tanh(self.fc1(x))\n",
    "        \n",
    "            x = F.softmax(self.fc2(x), dim=-1)\n",
    "            #mu = self.mean(x)\n",
    "            #log_stddev = self.log_stddev.expand_as(mu)\n",
    "        else:\n",
    "            x = F.tanh(self.module_list_old[0](x))\n",
    "            x = F.softmax(self.module_list_old[1](x), dim=-1)\n",
    "\n",
    "        return x\n",
    "\n",
    "\n",
    "class Critic(nn.Module):\n",
    "    def __init__(self, n_inp, n_hidden):\n",
    "        super(Critic, self).__init__()\n",
    "        self.fc1 = nn.Linear(n_inp, n_hidden)\n",
    "        self.fc2 = nn.Linear(n_hidden, n_hidden)\n",
    "\n",
    "        #Weights init\n",
    "        self.state_val = nn.Linear(n_hidden, 1)\n",
    "        self.state_val.weight.data.mul_(0.1)\n",
    "        self.state_val.bias.data.mul_(0.0)\n",
    "\n",
    "    def forward(self, x):\n",
    "        x = F.tanh(self.fc1(x))\n",
    "        x = F.tanh(self.fc2(x))\n",
    "        state_val = self.state_val(x)\n",
    "        return state_val"
   ]
  },
  {
   "cell_type": "code",
   "execution_count": 49,
   "metadata": {
    "colab": {},
    "colab_type": "code",
    "id": "VJmhrKO47VLx",
    "pycharm": {
     "is_executing": false
    }
   },
   "outputs": [],
   "source": [
    "def plot_data(statistics):\n",
    "    '''\n",
    "    plots reward and loss graph for entire training\n",
    "    '''\n",
    "    x_axis = np.linspace(0, N_EPISODES, N_EPISODES // LOG_STEPS)\n",
    "    plt.plot(x_axis, statistics[\"reward\"])\n",
    "    plt.title(\"Variation of mean rewards\")\n",
    "    plt.show()\n",
    "\n",
    "    plt.plot(x_axis, statistics[\"val_loss\"])\n",
    "    plt.title(\"Variation of Critic Loss\")\n",
    "    plt.show()\n",
    "\n",
    "    plt.plot(x_axis, statistics[\"policy_loss\"])\n",
    "    plt.title(\"Variation of Actor loss\")\n",
    "    plt.show()"
   ]
  },
  {
   "cell_type": "code",
   "execution_count": 50,
   "metadata": {
    "colab": {},
    "colab_type": "code",
    "id": "gTYHXYXN7W0Y",
    "pycharm": {
     "is_executing": false
    }
   },
   "outputs": [],
   "source": [
    "class PPO:\n",
    "    def __init__(self, env, actor, critic, KL=False,Clip=True):\n",
    "        self.env = env\n",
    "        self.actor = actor\n",
    "        self.critic = critic\n",
    "        self.actor_optimizer = optim.Adam(self.actor.parameters(), lr=A_LEARNING_RATE)\n",
    "        self.critic_optimizer = optim.Adam(self.critic.parameters(), lr=C_LEARNING_RATE)\n",
    "        self.kl=KL\n",
    "        self.clip = Clip\n",
    "        self.num_outputs = env.n_actions\n",
    "\n",
    "    def select_best_action(self, S, countinuous=False):\n",
    "      if countinuous:\n",
    "        S = torch.FloatTensor(S)\n",
    "        mu, log_sigma = self.actor(Variable(S))\n",
    "        action = torch.normal(mu, torch.exp(log_sigma))\n",
    "        return action\n",
    "      else:\n",
    "        S = Variable(torch.FloatTensor(S))\n",
    "        dist = self.actor(S)\n",
    "        action = np.random.choice(self.num_outputs, p=np.squeeze(dist.detach().numpy()))\n",
    "        return action\n",
    "\n",
    "    def compute_advantage(self, values, batch_R, batch_mask):\n",
    "        batch_size = len(batch_R)\n",
    "\n",
    "        v_target = torch.FloatTensor(batch_size)\n",
    "        advantages = torch.FloatTensor(batch_size)\n",
    "\n",
    "        prev_v_target = 0\n",
    "        prev_v = 0\n",
    "        prev_A = 0\n",
    "\n",
    "        for i in reversed(range(batch_size)):\n",
    "            v_target[i] = batch_R[i] + GAMMA * prev_v_target * batch_mask[i]\n",
    "            delta = batch_R[i] + GAMMA * prev_v * batch_mask[i] - values.data[i]\n",
    "            advantages[i] = delta + GAMMA * TAU * prev_A * batch_mask[i]\n",
    "\n",
    "            prev_v_target = v_target[i]\n",
    "            prev_v = values.data[i]\n",
    "            prev_A = advantages[i]\n",
    "\n",
    "        advantages = (advantages - advantages.mean()) / (advantages.std() + 1e-4)\n",
    "        return advantages, v_target\n",
    "\n",
    "    def update_params(self, batch,i):\n",
    "        S = torch.FloatTensor(batch.state)\n",
    "        masks = torch.FloatTensor(batch.mask)\n",
    "        A = torch.FloatTensor(np.concatenate(batch.action, 0))\n",
    "        R = torch.FloatTensor(batch.reward)\n",
    "\n",
    "        V_S = self.critic(Variable(S))\n",
    "        advantages, v_target = self.compute_advantage(V_S, R, masks)\n",
    "\n",
    "        # loss function for value net\n",
    "        L_vf = torch.mean(torch.pow(V_S - Variable(v_target), 2))\n",
    "\n",
    "        # optimize the critic net\n",
    "        self.critic_optimizer.zero_grad()\n",
    "        L_vf.backward()\n",
    "        self.critic_optimizer.step()\n",
    "\n",
    "        # cast into variable\n",
    "        #A = Variable(A)\n",
    "        A = torch.tensor(A,dtype=torch.int8).numpy()\n",
    "        # new log probability of the actions\n",
    "        #means, log_stddevs = self.actor(Variable(S))\n",
    "        #new_log_prob = get_gaussian_log(A, means, log_stddevs)\n",
    "        new_prob = self.actor(Variable(S))\n",
    "        new_log_prob = torch.log(new_prob[np.arange(0,len(new_prob)),A])\n",
    "\n",
    "        # old log probability of the actions\n",
    "        with torch.no_grad():\n",
    "            #old_means, old_log_stddevs = self.actor(Variable(S), old=True)\n",
    "            #old_log_prob = get_gaussian_log(A, old_means, old_log_stddevs)\n",
    "            old_prob = self.actor(Variable(S),old=True)\n",
    "            old_log_prob = torch.log(old_prob[np.arange(0,len(old_prob)),A])\n",
    "\n",
    "        # save the old actor\n",
    "        \n",
    "        self.actor.backup()\n",
    "\n",
    "        #Adding an entropy term to critic loss, not sure it's a good idea\n",
    "        entropy = - (torch.sum((new_prob) * torch.log(new_prob),dim=1)).mean()\n",
    "\n",
    "        # ratio of new and old policies\n",
    "        ratio = torch.exp(new_log_prob - old_log_prob)\n",
    "\n",
    "        # find clipped loss\n",
    "        if self.clip:\n",
    "          advantages = Variable(advantages)\n",
    "          L_cpi = ratio * advantages\n",
    "          clip_factor = torch.clamp(ratio, 1 - EPSILON, 1 + EPSILON) * advantages\n",
    "          L_clip = -torch.mean(torch.min(L_cpi, clip_factor))\n",
    "          actor_loss = L_clip + BETA*entropy\n",
    "          \n",
    "          #It is too little otherwise\n",
    "          actor_loss *= 10\n",
    "\n",
    "        elif self.kl:\n",
    "            #To code\n",
    "            pass\n",
    "\n",
    "        else:\n",
    "          actor_loss = -torch.mean(ratio * Variable(advantages)) + BETA * entropy\n",
    "          actor_loss*=10\n",
    "\n",
    "\n",
    "\n",
    "        # optimize actor network\n",
    "        self.actor_optimizer.zero_grad()\n",
    "        actor_loss.backward()\n",
    "\n",
    "        if self.clip:\n",
    "          torch.nn.utils.clip_grad_norm_(self.actor.parameters(),100)\n",
    "\n",
    "        self.actor_optimizer.step()\n",
    "\n",
    "        return actor_loss, L_vf"
   ]
  },
  {
   "cell_type": "code",
   "execution_count": 51,
   "metadata": {
    "colab": {
     "base_uri": "https://localhost:8080/",
     "height": 1000
    },
    "colab_type": "code",
    "id": "1mAwLnY-9YnL",
    "outputId": "c2fab19d-ab2b-402d-c7b4-fbb36278a610",
    "pycharm": {
     "is_executing": false
    }
   },
   "outputs": [
    {
     "name": "stderr",
     "text": [
      "<ipython-input-50-85885f97cb57>:65: UserWarning: To copy construct from a tensor, it is recommended to use sourceTensor.clone().detach() or sourceTensor.clone().detach().requires_grad_(True), rather than torch.tensor(sourceTensor).\n",
      "  A = torch.tensor(A,dtype=torch.int8).numpy()\n"
     ],
     "output_type": "stream"
    },
    {
     "name": "stdout",
     "text": [
      "Episode: 0, Mean Reward: 19.82352941, Mean Value loss: [267.49127197],Mean Policy Loss: [1.38158214]\n",
      "Episode: 20, Mean Reward: 21.52484916, Mean Value loss: [291.33793411],Mean Policy Loss: [1.38514555]\n",
      "Episode: 40, Mean Reward: 22.63424539, Mean Value loss: [321.86511536],Mean Policy Loss: [1.38594722]\n",
      "Episode: 60, Mean Reward: 23.31764015, Mean Value loss: [359.31423721],Mean Policy Loss: [1.38593174]\n",
      "Episode: 80, Mean Reward: 22.69263226, Mean Value loss: [335.50913391],Mean Policy Loss: [1.38617246]\n",
      "Episode: 100, Mean Reward: 22.13108115, Mean Value loss: [302.43323746],Mean Policy Loss: [1.38599812]\n",
      "Episode: 120, Mean Reward: 22.02134878, Mean Value loss: [279.39322205],Mean Policy Loss: [1.38622103]\n",
      "Episode: 140, Mean Reward: 23.58182346, Mean Value loss: [340.03531036],Mean Policy Loss: [1.38620074]\n",
      "Episode: 160, Mean Reward: 22.57014939, Mean Value loss: [318.42008972],Mean Policy Loss: [1.38535187]\n",
      "Episode: 180, Mean Reward: 22.06440539, Mean Value loss: [285.53724594],Mean Policy Loss: [1.38287868]\n"
     ],
     "output_type": "stream"
    },
    {
     "data": {
      "text/plain": "<Figure size 432x288 with 1 Axes>",
      "image/png": "[encoded data removed]"
     },
     "metadata": {
      "needs_background": "light"
     },
     "output_type": "display_data"
    },
    {
     "data": {
      "text/plain": "<Figure size 432x288 with 1 Axes>",
      "image/png": "[encoded data removed]"
     },
     "metadata": {
      "needs_background": "light"
     },
     "output_type": "display_data"
    },
    {
     "data": {
      "text/plain": "<Figure size 432x288 with 1 Axes>",
      "image/png": "[encoded data removed]"
     },
     "metadata": {
      "needs_background": "light"
     },
     "output_type": "display_data"
    }
   ],
   "source": [
    "env = Game()\n",
    "n_input = env.state_dim\n",
    "num_outputs = env.n_actions\n",
    "\n",
    "actor = Actor(n_input, N_HIDDEN, num_outputs)\n",
    "critic = Critic(n_input, N_HIDDEN)\n",
    "\n",
    "\n",
    "ppo_agent = PPO(env, actor, critic, KL=False, Clip=True)\n",
    "\n",
    "#running_state = ZFilter((2,), clip=5)\n",
    "\n",
    "statistics = {\n",
    "    'reward': [],\n",
    "    'val_loss': [],\n",
    "    'policy_loss': [],\n",
    "}\n",
    "\n",
    "N_EPISODES = 200\n",
    "MEM_BATCH_SIZE = 1000\n",
    "\n",
    "best_reward = 0\n",
    "for i in range(0, N_EPISODES):\n",
    "    memory = Memory()\n",
    "    num_steps = 0\n",
    "    num_ep = 0\n",
    "    reward_batch = 0\n",
    "\n",
    "    while num_steps < MEM_BATCH_SIZE:\n",
    "        S = env.reset()\n",
    "        #S = running_state(S)\n",
    "        t = 0\n",
    "        reward_sum = 0\n",
    "\n",
    "        while True:\n",
    "            t += 1\n",
    "\n",
    "            A = ppo_agent.select_best_action(S)\n",
    "            S_prime, R, is_done = env.take_one_step(A) #a.item()\n",
    "\n",
    "            reward_sum += R\n",
    "            mask = 1 - int(is_done)\n",
    "\n",
    "            memory.push(S, np.array([A]), mask, R)      #a.item()\n",
    "\n",
    "            if is_done:\n",
    "                break\n",
    "\n",
    "            #S = running_state(S_prime)\n",
    "            # S = S_prime\n",
    "\n",
    "        num_steps += t\n",
    "        num_ep += 1\n",
    "        reward_batch += reward_sum\n",
    "\n",
    "    reward_batch /= num_ep\n",
    "\n",
    "    # The memory is now full of rollouts. Sample from memory and optimize\n",
    "    batch = memory.sample()\n",
    "    policy_loss, val_loss = ppo_agent.update_params(batch,i)\n",
    "\n",
    "\n",
    "    # log data onto stdout\n",
    "    if i == 0 or i % LOG_STEPS == 0:\n",
    "        # save statistics\n",
    "        statistics['reward'].append(reward_batch)\n",
    "        statistics['val_loss'].append(val_loss.item())\n",
    "        statistics['policy_loss'].append(policy_loss.item())\n",
    "        \n",
    "        if i % 20 == 0:\n",
    "          print(\"Episode: %d, Mean Reward: %.8f, Mean Value loss: [%.8f],Mean Policy Loss: [%.8f]\" %(i, np.asarray(statistics['reward'][-20:]).mean(), \n",
    "                                                                                                     np.asarray(statistics['val_loss'][-20:]).mean(), \n",
    "                                                                                                         np.asarray(statistics['policy_loss'][-20:]).mean()))\n",
    "\n",
    "plot_data(statistics)"
   ]
  },
  {
   "cell_type": "code",
   "execution_count": 52,
   "metadata": {
    "colab": {},
    "colab_type": "code",
    "id": "doA7UgMcIA73",
    "pycharm": {
     "is_executing": false
    }
   },
   "outputs": [],
   "source": [
    "a = np.zeros([52])"
   ]
  },
  {
   "cell_type": "code",
   "execution_count": 53,
   "metadata": {
    "colab": {},
    "colab_type": "code",
    "id": "3hT7Qbla-l9O",
    "pycharm": {
     "is_executing": false
    }
   },
   "outputs": [],
   "source": [
    "a[40]+=1"
   ]
  },
  {
   "cell_type": "code",
   "execution_count": 54,
   "metadata": {
    "colab": {},
    "colab_type": "code",
    "id": "Taam7OXT-xV9",
    "pycharm": {
     "is_executing": false
    }
   },
   "outputs": [],
   "source": [
    "a[50]+=1"
   ]
  },
  {
   "cell_type": "code",
   "execution_count": 55,
   "metadata": {
    "colab": {
     "base_uri": "https://localhost:8080/",
     "height": 52
    },
    "colab_type": "code",
    "id": "89e1EmeQIJqC",
    "outputId": "c530af66-f112-49c8-fefc-41549e276867",
    "pycharm": {
     "is_executing": false
    }
   },
   "outputs": [
    {
     "data": {
      "text/plain": "array([0., 0., 0., 0., 0., 0., 0., 0., 1., 0., 0., 0., 0., 0., 0., 0., 0.,\n       0., 1., 0.])"
     },
     "metadata": {},
     "output_type": "execute_result",
     "execution_count": 55
    }
   ],
   "source": [
    "a[-20:]"
   ]
  },
  {
   "cell_type": "code",
   "execution_count": 56,
   "metadata": {
    "colab": {},
    "colab_type": "code",
    "id": "meD1r-ky-6-h",
    "pycharm": {
     "is_executing": false
    }
   },
   "outputs": [],
   "source": [
    "b = np.array([3,3,3,3])"
   ]
  },
  {
   "cell_type": "code",
   "execution_count": 57,
   "metadata": {
    "colab": {
     "base_uri": "https://localhost:8080/",
     "height": 34
    },
    "colab_type": "code",
    "id": "YqKdHpG8--CS",
    "outputId": "23c860b3-7ce7-418e-fcd8-003006eb6fbf",
    "pycharm": {
     "is_executing": false
    }
   },
   "outputs": [
    {
     "data": {
      "text/plain": "array([3, 3, 3, 3])"
     },
     "metadata": {},
     "output_type": "execute_result",
     "execution_count": 57
    }
   ],
   "source": [
    "b[-20:]"
   ]
  },
  {
   "cell_type": "code",
   "execution_count": 58,
   "metadata": {
    "colab": {},
    "colab_type": "code",
    "id": "uK0oLd-dQ_eR",
    "pycharm": {
     "is_executing": false
    }
   },
   "outputs": [],
   "source": [
    "import spinningup"
   ]
  },
  {
   "cell_type": "code",
   "execution_count": 59,
   "metadata": {
    "colab": {
     "base_uri": "https://localhost:8080/",
     "height": 243
    },
    "colab_type": "code",
    "id": "sEGc0oKERB8i",
    "outputId": "e7ffa47a-5f83-42da-90ac-befa879c283c",
    "pycharm": {
     "is_executing": false
    }
   },
   "outputs": [
    {
     "name": "stdout",
     "text": [
      "Help on package spinningup:\n",
      "\n",
      "NAME\n",
      "    spinningup\n",
      "\n",
      "PACKAGE CONTENTS\n",
      "    setup\n",
      "    spinup (package)\n",
      "\n",
      "FILE\n",
      "    (built-in)\n",
      "\n",
      "\n"
     ],
     "output_type": "stream"
    }
   ],
   "source": [
    "help(spinningup)"
   ]
  },
  {
   "cell_type": "code",
   "execution_count": 60,
   "metadata": {
    "colab": {
     "base_uri": "https://localhost:8080/",
     "height": 475
    },
    "colab_type": "code",
    "id": "ybni-uIxRHQS",
    "outputId": "849bb742-441b-4756-e554-af56d6ed1170",
    "pycharm": {
     "is_executing": false
    }
   },
   "outputs": [
    {
     "traceback": [
      "\u001b[0;31m---------------------------------------------------------------------------\u001b[0m",
      "\u001b[0;31mModuleNotFoundError\u001b[0m                       Traceback (most recent call last)",
      "\u001b[0;32m<ipython-input-60-8ab989754e0e>\u001b[0m in \u001b[0;36m<module>\u001b[0;34m\u001b[0m\n\u001b[0;32m----> 1\u001b[0;31m \u001b[0;32mimport\u001b[0m \u001b[0mspinningup\u001b[0m\u001b[0;34m.\u001b[0m\u001b[0mspinup\u001b[0m\u001b[0;34m\u001b[0m\u001b[0;34m\u001b[0m\u001b[0m\n\u001b[0m\u001b[1;32m      2\u001b[0m \u001b[0;34m\u001b[0m\u001b[0m\n",
      "\u001b[0;32m/run/media/maxime/Documents/_ENS/M2/deepl_rl/tp-rl-dl/tp-rl/spinningup/spinup/__init__.py\u001b[0m in \u001b[0;36m<module>\u001b[0;34m\u001b[0m\n\u001b[1;32m      5\u001b[0m \u001b[0;34m\u001b[0m\u001b[0m\n\u001b[1;32m      6\u001b[0m \u001b[0;31m# Algorithms\u001b[0m\u001b[0;34m\u001b[0m\u001b[0;34m\u001b[0m\u001b[0;34m\u001b[0m\u001b[0m\n\u001b[0;32m----> 7\u001b[0;31m \u001b[0;32mfrom\u001b[0m \u001b[0mspinup\u001b[0m\u001b[0;34m.\u001b[0m\u001b[0malgos\u001b[0m\u001b[0;34m.\u001b[0m\u001b[0mtf1\u001b[0m\u001b[0;34m.\u001b[0m\u001b[0mddpg\u001b[0m\u001b[0;34m.\u001b[0m\u001b[0mddpg\u001b[0m \u001b[0;32mimport\u001b[0m \u001b[0mddpg\u001b[0m \u001b[0;32mas\u001b[0m \u001b[0mddpg_tf1\u001b[0m\u001b[0;34m\u001b[0m\u001b[0;34m\u001b[0m\u001b[0m\n\u001b[0m\u001b[1;32m      8\u001b[0m \u001b[0;32mfrom\u001b[0m \u001b[0mspinup\u001b[0m\u001b[0;34m.\u001b[0m\u001b[0malgos\u001b[0m\u001b[0;34m.\u001b[0m\u001b[0mtf1\u001b[0m\u001b[0;34m.\u001b[0m\u001b[0mppo\u001b[0m\u001b[0;34m.\u001b[0m\u001b[0mppo\u001b[0m \u001b[0;32mimport\u001b[0m \u001b[0mppo\u001b[0m \u001b[0;32mas\u001b[0m \u001b[0mppo_tf1\u001b[0m\u001b[0;34m\u001b[0m\u001b[0;34m\u001b[0m\u001b[0m\n\u001b[1;32m      9\u001b[0m \u001b[0;32mfrom\u001b[0m \u001b[0mspinup\u001b[0m\u001b[0;34m.\u001b[0m\u001b[0malgos\u001b[0m\u001b[0;34m.\u001b[0m\u001b[0mtf1\u001b[0m\u001b[0;34m.\u001b[0m\u001b[0msac\u001b[0m\u001b[0;34m.\u001b[0m\u001b[0msac\u001b[0m \u001b[0;32mimport\u001b[0m \u001b[0msac\u001b[0m \u001b[0;32mas\u001b[0m \u001b[0msac_tf1\u001b[0m\u001b[0;34m\u001b[0m\u001b[0;34m\u001b[0m\u001b[0m\n",
      "\u001b[0;31mModuleNotFoundError\u001b[0m: No module named 'spinup.algos'"
     ],
     "ename": "ModuleNotFoundError",
     "evalue": "No module named 'spinup.algos'",
     "output_type": "error"
    }
   ],
   "source": [
    "import spinningup.spinup"
   ]
  },
  {
   "cell_type": "code",
   "execution_count": null,
   "metadata": {
    "colab": {
     "base_uri": "https://localhost:8080/",
     "height": 376
    },
    "colab_type": "code",
    "id": "5YH-7MYeMgWm",
    "outputId": "2fe62a8f-d068-4ae1-94a4-ed717d185ba1",
    "pycharm": {
     "name": "#%%\n",
     "is_executing": false
    }
   },
   "outputs": [],
   "source": []
  }
 ],
 "metadata": {
  "colab": {
   "collapsed_sections": [],
   "name": "TME6_True.ipynb",
   "provenance": []
  },
  "kernelspec": {
   "name": "pycharm-320e9257",
   "language": "python",
   "display_name": "PyCharm (tp-rl)"
  },
  "language_info": {
   "codemirror_mode": {
    "name": "ipython",
    "version": 3
   },
   "file_extension": ".py",
   "mimetype": "text/x-python",
   "name": "python",
   "nbconvert_exporter": "python",
   "pygments_lexer": "ipython3",
   "version": "3.6.9"
  },
  "pycharm": {
   "stem_cell": {
    "cell_type": "raw",
    "source": [],
    "metadata": {
     "collapsed": false
    }
   }
  }
 },
 "nbformat": 4,
 "nbformat_minor": 1
}